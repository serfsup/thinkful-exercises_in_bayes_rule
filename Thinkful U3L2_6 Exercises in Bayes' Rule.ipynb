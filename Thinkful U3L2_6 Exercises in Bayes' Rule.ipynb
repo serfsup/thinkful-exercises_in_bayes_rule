{
 "cells": [
  {
   "cell_type": "markdown",
   "metadata": {},
   "source": [
    "A diagnostic test has a 98% probability of giving a positive result when applied to a person suffering from Thripshaw's Disease, and 10% probability of giving a (false) positive when applied to a non-sufferer. It is estimated that 0.5 % of the population are sufferers. Suppose that the test is now administered to a person whose disease status is unknown. Calculate the probability that the test will:\n",
    "\n",
    "1. Be positive\n",
    "2. Correctly diagnose a sufferer of Thripshaw's\n",
    "3. Correctly identify a non-sufferer of Thripshaw's\n",
    "4. Misclassify the person"
   ]
  },
  {
   "cell_type": "markdown",
   "metadata": {},
   "source": [
    "If 0.5% of the population are sufferers, that would translate to approximately 1/200 people, or 5/1,000, and 5,000/1,000,000.  So given one million people, 5,000 have Thripshaw's Disease.  Of the 5,000 people who have Thripshaw's Disease, 4,900 will be correctly diagnosed while 100 will be a false-negative.  Similarly, of the 995,000 who are non-sufferers, 99,500 will be given false-positive results.  \n",
    "\n",
    "1. There is no condition to this scenario, so I need to determine how many positives, regardless of their correctness.  99,500 false-positives + 4,900 true-positives = 104,400 out of 1,000,000 or 10.44%\n",
    "\n",
    "2. The condition is a sufferer of Thripshaw's Disease, and the correct diagnosis is given 98% of the time.\n",
    "\n",
    "3. The condition is a non-sufferer of Thripshaw's Disease, and they are correctly identified 90% of the time.\n",
    "\n",
    "4. 99,500 false-positives + 100 false-negatives = 99,600 out of 1,000,000 or 9.96%"
   ]
  },
  {
   "cell_type": "code",
   "execution_count": null,
   "metadata": {},
   "outputs": [],
   "source": []
  }
 ],
 "metadata": {
  "kernelspec": {
   "display_name": "Python 3",
   "language": "python",
   "name": "python3"
  },
  "language_info": {
   "codemirror_mode": {
    "name": "ipython",
    "version": 3
   },
   "file_extension": ".py",
   "mimetype": "text/x-python",
   "name": "python",
   "nbconvert_exporter": "python",
   "pygments_lexer": "ipython3",
   "version": "3.6.1"
  }
 },
 "nbformat": 4,
 "nbformat_minor": 2
}
